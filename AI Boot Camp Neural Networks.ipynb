{
 "cells": [
  {
   "cell_type": "markdown",
   "id": "464729b7",
   "metadata": {},
   "source": [
    "### Convolutional Neural Networks\n",
    "\n",
    "AI Bootcamp 2022 Winter\n",
    "\n",
    "Dates: 2022-2-7\n",
    "\n",
    "Author: Yung-Kyun Noh\n",
    "\n",
    "Department of Computer Science, Hanyang University\n"
   ]
  },
  {
   "cell_type": "code",
   "execution_count": null,
   "id": "afb9f541",
   "metadata": {},
   "outputs": [],
   "source": [
    "from tensorflow.keras.datasets import mnist\n",
    "from tensorflow.keras.models import Sequential\n",
    "from tensorflow.keras.layers import Dense\n",
    "import tensorflow.keras as keras\n",
    "\n",
    "import numpy as np\n",
    "\n",
    "import matplotlib.pyplot as plt"
   ]
  },
  {
   "cell_type": "code",
   "execution_count": null,
   "id": "d2944cd9",
   "metadata": {},
   "outputs": [],
   "source": [
    "# the data, split between train and test sets\n",
    "(x_train, y_train), (x_test, y_test) = mnist.load_data()\n",
    "\n",
    "print(x_train.shape)\n",
    "print(x_test.shape)\n",
    "print(y_train.shape)\n",
    "print(y_test.shape)\n",
    "\n",
    "print(y_train, y_test)"
   ]
  },
  {
   "cell_type": "code",
   "execution_count": null,
   "id": "303b0561",
   "metadata": {},
   "outputs": [],
   "source": [
    "plt.imshow(x_train[82], cmap='gray')"
   ]
  },
  {
   "cell_type": "code",
   "execution_count": null,
   "id": "e7ab76d7",
   "metadata": {},
   "outputs": [],
   "source": [
    "# flatten (vectorize) for ANN\n",
    "x_train_flatten = x_train.reshape(60000, 784)\n",
    "x_test_flatten = x_test.reshape(10000, 784)\n",
    "\n",
    "num_categories = 10\n",
    "\n",
    "y_train = keras.utils.to_categorical(y_train, num_categories)\n",
    "y_test = keras.utils.to_categorical(y_test, num_categories)\n",
    "\n",
    "print(y_train.shape, '\\n', y_train[0])    # one-hot coding"
   ]
  },
  {
   "cell_type": "markdown",
   "id": "195e0064",
   "metadata": {},
   "source": [
    "### ANN"
   ]
  },
  {
   "cell_type": "code",
   "execution_count": null,
   "id": "2cbb406f",
   "metadata": {},
   "outputs": [],
   "source": [
    "model = Sequential()\n",
    "\n",
    "model.add(Dense(units=512, activation='relu', input_shape=(784,)))\n",
    "model.add(Dense(units = 512, activation='relu'))\n",
    "model.add(Dense(units = num_categories, activation='softmax'))\n",
    "\n",
    "model.summary()"
   ]
  },
  {
   "cell_type": "code",
   "execution_count": null,
   "id": "dcf9d3c7",
   "metadata": {},
   "outputs": [],
   "source": [
    "# number of the parameters in each layer\n",
    "print('1st layer:', (784 + 1)*512)  # 1: bias\n",
    "print('2nd layer:', (512 + 1)*512)\n",
    "print('3rd layer:', (512 + 1)*10)\n"
   ]
  },
  {
   "cell_type": "code",
   "execution_count": null,
   "id": "099c6371",
   "metadata": {},
   "outputs": [],
   "source": [
    "model.compile(loss='categorical_crossentropy', metrics=['accuracy'])\n",
    "\n",
    "history = model.fit(x_train_flatten, y_train,\n",
    "                    epochs=5,\n",
    "                    verbose=1,\n",
    "                    validation_data=(x_test_flatten, y_test))\n"
   ]
  },
  {
   "cell_type": "markdown",
   "id": "abc30c02",
   "metadata": {},
   "source": [
    "### Convolutional Neural Networks"
   ]
  },
  {
   "cell_type": "code",
   "execution_count": null,
   "id": "a0f635cf",
   "metadata": {},
   "outputs": [],
   "source": [
    "from tensorflow.keras.models import Sequential\n",
    "from tensorflow.keras.layers import (\n",
    "    Dense,\n",
    "    Conv2D,\n",
    "    MaxPool2D,\n",
    "    Flatten,\n",
    "    Dropout,\n",
    "    BatchNormalization,\n",
    ")"
   ]
  },
  {
   "cell_type": "code",
   "execution_count": null,
   "id": "d3ea958f",
   "metadata": {},
   "outputs": [],
   "source": [
    "model = Sequential()\n",
    "model.add(Conv2D(75, (3, 3), strides=1, padding=\"same\", activation=\"relu\", \n",
    "                 input_shape=(28, 28, 1)))\n",
    "model.add(Flatten())\n",
    "model.add(Dense(units=num_categories, activation=\"softmax\"))\n",
    "model.summary()"
   ]
  },
  {
   "cell_type": "code",
   "execution_count": null,
   "id": "26e503cc",
   "metadata": {},
   "outputs": [],
   "source": [
    "# number of the parameters in each layer\n",
    "print('1st layer:', (3*3 + 1)*75)  # 1: bias\n",
    "print('3rd layer:', (58800 + 1)*10)\n"
   ]
  },
  {
   "cell_type": "code",
   "execution_count": null,
   "id": "928a7483",
   "metadata": {},
   "outputs": [],
   "source": [
    "model.compile(loss='categorical_crossentropy', metrics=['accuracy'])\n",
    "\n",
    "x_train_conv = x_train.reshape(-1,28,28,1)\n",
    "x_test_conv = x_test.reshape(-1,28,28,1)\n",
    "\n",
    "model.fit(x_train_conv, y_train, epochs=5, verbose=1, validation_data=(x_test_conv, y_test))\n"
   ]
  },
  {
   "cell_type": "code",
   "execution_count": null,
   "id": "0422a3a8",
   "metadata": {},
   "outputs": [],
   "source": [
    "model.fit(x_train_conv, y_train, epochs=5, verbose=1, validation_data=(x_test_conv, y_test))\n"
   ]
  },
  {
   "cell_type": "markdown",
   "id": "1afaf785",
   "metadata": {},
   "source": [
    "### Deep Convolutional Neural Networks"
   ]
  },
  {
   "cell_type": "code",
   "execution_count": null,
   "id": "c2623ee8",
   "metadata": {},
   "outputs": [],
   "source": [
    "model = Sequential()\n",
    "model.add(Conv2D(75, (3, 3), strides=1, padding=\"same\", activation=\"relu\", \n",
    "                 input_shape=(28, 28, 1)))\n",
    "model.add(BatchNormalization())\n",
    "model.add(MaxPool2D((2, 2), strides=2, padding=\"same\"))\n",
    "model.add(Conv2D(50, (3, 3), strides=1, padding=\"same\", activation=\"relu\"))\n",
    "model.add(Dropout(0.2))\n",
    "model.add(BatchNormalization())\n",
    "model.add(MaxPool2D((2, 2), strides=2, padding=\"same\"))\n",
    "model.add(Conv2D(25, (3, 3), strides=1, padding=\"same\", activation=\"relu\"))\n",
    "model.add(BatchNormalization())\n",
    "model.add(MaxPool2D((2, 2), strides=2, padding=\"same\"))\n",
    "model.add(Flatten())\n",
    "model.add(Dense(units=512, activation=\"relu\"))\n",
    "model.add(Dropout(0.3))\n",
    "model.add(Dense(units=num_categories, activation=\"softmax\"))\n",
    "\n",
    "model.summary()"
   ]
  },
  {
   "cell_type": "code",
   "execution_count": null,
   "id": "b1f4dbae",
   "metadata": {},
   "outputs": [],
   "source": [
    "model.compile(loss=\"categorical_crossentropy\", metrics=[\"accuracy\"])\n",
    "\n",
    "x_train_conv = x_train.reshape(-1,28,28,1)\n",
    "x_test_conv = x_test.reshape(-1,28,28,1)\n",
    "\n",
    "model.fit(x_train_conv, y_train, epochs=20, verbose=1, validation_data=(x_test_conv, y_test))"
   ]
  },
  {
   "cell_type": "markdown",
   "id": "75611993",
   "metadata": {},
   "source": [
    "### Data augmentation"
   ]
  },
  {
   "cell_type": "code",
   "execution_count": null,
   "id": "3a6ad38c",
   "metadata": {},
   "outputs": [],
   "source": [
    "from tensorflow.keras.preprocessing.image import ImageDataGenerator\n",
    "\n",
    "datagen = ImageDataGenerator(\n",
    "    rotation_range=10,  # randomly rotate images in the range (degrees, 0 to 180)\n",
    "    zoom_range=0.05,  # Randomly zoom image\n",
    "    width_shift_range=0.05,  # randomly shift images horizontally (fraction of total width)\n",
    "    height_shift_range=0.05,  # randomly shift images vertically (fraction of total height)\n",
    "    horizontal_flip=False,  # randomly flip images horizontally\n",
    "    vertical_flip=False, # Don't randomly flip images vertically\n",
    ")\n",
    "\n",
    "batch_size = 32\n",
    "img_iter = datagen.flow(x_train_conv, y_train, batch_size=batch_size)\n",
    "datagen.fit(x_train_conv)"
   ]
  },
  {
   "cell_type": "code",
   "execution_count": null,
   "id": "0324e784",
   "metadata": {},
   "outputs": [],
   "source": [
    "model.fit(img_iter,\n",
    "          epochs=20,\n",
    "          steps_per_epoch=len(x_train)/batch_size, # Run same number of steps we would if we were not using a generator.\n",
    "          validation_data=(x_test_conv, y_test))"
   ]
  },
  {
   "cell_type": "code",
   "execution_count": null,
   "id": "c9a317c3",
   "metadata": {},
   "outputs": [],
   "source": [
    "# no augmentation\n",
    "model.fit(x_train_conv, y_train, epochs=20, verbose=1, validation_data=(x_test_conv, y_test))"
   ]
  },
  {
   "cell_type": "code",
   "execution_count": null,
   "id": "14b693ed",
   "metadata": {},
   "outputs": [],
   "source": [
    "# show the first five filters\n",
    "filters, biases = model.layers[0].get_weights()\n",
    "print(filters.shape)\n",
    "plt.subplot(151)\n",
    "plt.imshow(filters[:,:,0,0], cmap='gray')\n",
    "plt.subplot(152)\n",
    "plt.imshow(filters[:,:,0,1], cmap='gray')\n",
    "plt.subplot(153)\n",
    "plt.imshow(filters[:,:,0,2], cmap='gray')\n",
    "plt.subplot(154)\n",
    "plt.imshow(filters[:,:,0,3], cmap='gray')\n",
    "plt.subplot(155)\n",
    "plt.imshow(filters[:,:,0,4], cmap='gray')\n",
    "plt.show()\n"
   ]
  },
  {
   "cell_type": "code",
   "execution_count": null,
   "id": "51e9d243",
   "metadata": {},
   "outputs": [],
   "source": []
  }
 ],
 "metadata": {
  "kernelspec": {
   "display_name": "Python 3",
   "language": "python",
   "name": "python3"
  },
  "language_info": {
   "codemirror_mode": {
    "name": "ipython",
    "version": 3
   },
   "file_extension": ".py",
   "mimetype": "text/x-python",
   "name": "python",
   "nbconvert_exporter": "python",
   "pygments_lexer": "ipython3",
   "version": "3.8.11"
  }
 },
 "nbformat": 4,
 "nbformat_minor": 5
}
